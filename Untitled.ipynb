{
 "cells": [
  {
   "cell_type": "code",
   "execution_count": null,
   "metadata": {},
   "outputs": [],
   "source": [
    "import task_generator\n",
    "import tsp\n",
    "import utils\n",
    "import matplotlib.pyplot as plt\n",
    "import random\n",
    "import copy\n",
    "%matplotlib inline"
   ]
  },
  {
   "cell_type": "code",
   "execution_count": null,
   "metadata": {},
   "outputs": [],
   "source": [
    "circle = task_generator.generate_circle(1, 50)\n",
    "tsp = utils.from_x_y(circle)\n",
    "\n",
    "pts_to_coordinates = {n:circle[n] for n in range(len(circle))}\n",
    "optimal_route = [n for n in range((len(circle)))]\n",
    "\n",
    "# print(tsp.cost_matrix)"
   ]
  },
  {
   "cell_type": "code",
   "execution_count": null,
   "metadata": {},
   "outputs": [],
   "source": [
    "def plot_2d_route(pts_ids, pts_to_coord, show_labels = False):\n",
    "    plt.figure(figsize=(3, 3))\n",
    "    for i, pt in enumerate(pts_ids):\n",
    "        lastx, lasty = pts_to_coord[pts_ids[i-1]]\n",
    "        currx, curry = pts_to_coord[pt]\n",
    "        plt.plot([lastx, currx], [lasty, curry], '-->')\n",
    "    if show_labels:    \n",
    "        for pt in pts_ids:\n",
    "            x, y = pts_to_coord[pt]\n",
    "            plt.annotate(\n",
    "                pt,\n",
    "                xy=(x, y), xytext=(-20, 20),\n",
    "                textcoords='offset points', ha='right', va='bottom',\n",
    "                bbox=dict(boxstyle='round,pad=0.5', fc='yellow', alpha=0.5),\n",
    "                arrowprops=dict(arrowstyle = '->', connectionstyle='arc3,rad=0'))\n",
    "\n"
   ]
  },
  {
   "cell_type": "markdown",
   "metadata": {},
   "source": [
    "## Optimal route"
   ]
  },
  {
   "cell_type": "code",
   "execution_count": null,
   "metadata": {},
   "outputs": [],
   "source": [
    "plot_2d_route(optimal_route, pts_to_coordinates)\n",
    "plt.show()"
   ]
  },
  {
   "cell_type": "markdown",
   "metadata": {},
   "source": [
    "## Sample random route"
   ]
  },
  {
   "cell_type": "code",
   "execution_count": null,
   "metadata": {},
   "outputs": [],
   "source": [
    "random.seed(0)\n",
    "random_route = copy.copy(optimal_route)\n",
    "random.shuffle(random_route)\n",
    "\n",
    "plot_2d_route(random_route, pts_to_coordinates)\n",
    "plt.show()"
   ]
  },
  {
   "cell_type": "markdown",
   "metadata": {},
   "source": [
    "## Translate to matrix representation"
   ]
  },
  {
   "cell_type": "code",
   "execution_count": null,
   "metadata": {},
   "outputs": [],
   "source": [
    "optimal_mat = tsp.individual(optimal_route)\n",
    "# print(optimal_mat)"
   ]
  },
  {
   "cell_type": "code",
   "execution_count": null,
   "metadata": {},
   "outputs": [],
   "source": [
    "random_mat = tsp.individual(random_route)\n",
    "# print(random_mat)\n"
   ]
  },
  {
   "cell_type": "markdown",
   "metadata": {},
   "source": [
    "## Evaluate length\n",
    "**(Its just matrix multiplication followed by summing all matrix elements)**"
   ]
  },
  {
   "cell_type": "code",
   "execution_count": null,
   "metadata": {},
   "outputs": [],
   "source": [
    "optimal_tour_length = tsp.evaluate(optimal_route)\n",
    "random_tour_length = tsp.evaluate(random_route)\n",
    "\n",
    "print(optimal_tour_length)\n",
    "print(random_tour_length)"
   ]
  },
  {
   "cell_type": "markdown",
   "metadata": {},
   "source": [
    "**We can perform this operation for multiple individuals**"
   ]
  },
  {
   "cell_type": "code",
   "execution_count": null,
   "metadata": {},
   "outputs": [],
   "source": [
    "optimal_lengths = tsp.evaluate_multiple([optimal_route, random_route])\n",
    "print(optimal_lengths)"
   ]
  },
  {
   "cell_type": "markdown",
   "metadata": {},
   "source": [
    "## Create population"
   ]
  },
  {
   "cell_type": "code",
   "execution_count": null,
   "metadata": {},
   "outputs": [],
   "source": [
    "population = tsp.create_random_population(200)\n",
    "new_population = population\n",
    "\n",
    "br = 5\n",
    "sr = 40\n",
    "\n",
    "best = []\n",
    "for i in range(br):\n",
    "    evaluated = tsp.evaluate_multiple(new_population)\n",
    "    argmax = utils.get_sorted_n_args(evaluated, 1)[0]\n",
    "    argmin = utils.get_sorted_n_args(evaluated, 1, lambda x: -x)[0]\n",
    "    \n",
    "    curr_best = new_population[argmax]\n",
    "    best.append(curr_best)\n",
    "    \n",
    "    print(\"Run: {}, best: {:.2f}, worst: {:.2f}\".format((i)*sr,evaluated[argmax],evaluated[argmin]) )\n",
    "    for j in range(sr):\n",
    "        new_population = tsp.single_generation(new_population)\n"
   ]
  },
  {
   "cell_type": "code",
   "execution_count": null,
   "metadata": {},
   "outputs": [],
   "source": [
    "def plot_multiple(individuals, pts_to_coord, cols = 5, scale=3):\n",
    "    rows = len(individuals) // cols + 1\n",
    "    \n",
    "    fig = plt.figure(figsize=(cols*scale,rows*scale))\n",
    "    for i, ind in enumerate(individuals):\n",
    "        ax = fig.add_subplot(rows, cols, i+1)\n",
    "        ax.axis('off')\n",
    "        for j, pt in enumerate(ind):\n",
    "            lastx, lasty = pts_to_coord[ind[j-1]]\n",
    "            currx, curry = pts_to_coord[pt]\n",
    "            plt.plot([lastx, currx], [lasty, curry], '-->')\n",
    "    plt.show()    \n",
    "\n",
    "plot_multiple(best, pts_to_coordinates)\n"
   ]
  }
 ],
 "metadata": {
  "kernelspec": {
   "display_name": "Python 3",
   "language": "python",
   "name": "python3"
  },
  "language_info": {
   "codemirror_mode": {
    "name": "ipython",
    "version": 3
   },
   "file_extension": ".py",
   "mimetype": "text/x-python",
   "name": "python",
   "nbconvert_exporter": "python",
   "pygments_lexer": "ipython3",
   "version": "3.6.4"
  }
 },
 "nbformat": 4,
 "nbformat_minor": 2
}
