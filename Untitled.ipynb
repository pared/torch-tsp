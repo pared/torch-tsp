{
 "cells": [
  {
   "cell_type": "code",
   "execution_count": null,
   "metadata": {},
   "outputs": [],
   "source": [
    "import task_generator\n",
    "import tsp\n",
    "import utils\n",
    "import matplotlib.pyplot as plt\n",
    "import random\n",
    "import copy\n",
    "%matplotlib inline"
   ]
  },
  {
   "cell_type": "code",
   "execution_count": null,
   "metadata": {},
   "outputs": [],
   "source": [
    "circle = task_generator.generate_circle(1, 8)\n",
    "tsp = utils.from_x_y(circle)\n",
    "\n",
    "pts_to_coordinates = {n:circle[n] for n in range(len(circle))}\n",
    "optimal_route = [n for n in range((len(circle)))]\n",
    "\n",
    "print(tsp.cost_matrix)"
   ]
  },
  {
   "cell_type": "code",
   "execution_count": null,
   "metadata": {},
   "outputs": [],
   "source": [
    "def plot_2d_route(pts_ids, pts_to_coord, show_labels = False):\n",
    "    plt.figure(figsize=(3, 3))\n",
    "    for i, pt in enumerate(pts_ids):\n",
    "        lastx, lasty = pts_to_coord[pts_ids[i-1]]\n",
    "        currx, curry = pts_to_coord[pt]\n",
    "        plt.plot([lastx, currx], [lasty, curry], '-->')\n",
    "    if show_labels:    \n",
    "        for pt in pts_ids:\n",
    "            x, y = pts_to_coord[pt]\n",
    "            plt.annotate(\n",
    "                pt,\n",
    "                xy=(x, y), xytext=(-20, 20),\n",
    "                textcoords='offset points', ha='right', va='bottom',\n",
    "                bbox=dict(boxstyle='round,pad=0.5', fc='yellow', alpha=0.5),\n",
    "                arrowprops=dict(arrowstyle = '->', connectionstyle='arc3,rad=0'))\n",
    "    plt.show()"
   ]
  },
  {
   "cell_type": "markdown",
   "metadata": {},
   "source": [
    "## Optimal route"
   ]
  },
  {
   "cell_type": "code",
   "execution_count": null,
   "metadata": {},
   "outputs": [],
   "source": [
    "plot_2d_route(optimal_route, pts_to_coordinates, True)"
   ]
  },
  {
   "cell_type": "markdown",
   "metadata": {},
   "source": [
    "## Sample random route"
   ]
  },
  {
   "cell_type": "code",
   "execution_count": null,
   "metadata": {},
   "outputs": [],
   "source": [
    "random.seed(0)\n",
    "random_route = copy.copy(optimal_route)\n",
    "random.shuffle(random_route)\n",
    "\n",
    "plot_2d_route(random_route, pts_to_coordinates, True)"
   ]
  },
  {
   "cell_type": "markdown",
   "metadata": {},
   "source": [
    "## Translate to matrix representation"
   ]
  },
  {
   "cell_type": "code",
   "execution_count": null,
   "metadata": {},
   "outputs": [],
   "source": [
    "optimal_mat = tsp.individual(optimal_route)\n",
    "print(optimal_mat)"
   ]
  },
  {
   "cell_type": "code",
   "execution_count": null,
   "metadata": {},
   "outputs": [],
   "source": [
    "random_mat = tsp.individual(random_route)\n",
    "print(random_mat)\n"
   ]
  },
  {
   "cell_type": "markdown",
   "metadata": {},
   "source": [
    "## Evaluate length\n",
    "**(Its just matrix multiplication followed by summing all matrix elements)**"
   ]
  },
  {
   "cell_type": "code",
   "execution_count": null,
   "metadata": {},
   "outputs": [],
   "source": [
    "optimal_tour_length = tsp.evaluate(optimal_mat)\n",
    "random_tour_length = tsp.evaluate(random_mat)\n",
    "\n",
    "print(optimal_tour_length)\n",
    "print(random_tour_length)"
   ]
  },
  {
   "cell_type": "markdown",
   "metadata": {},
   "source": [
    "**We can perform this operation for multiple individuals**"
   ]
  },
  {
   "cell_type": "code",
   "execution_count": null,
   "metadata": {},
   "outputs": [],
   "source": [
    "optimal_lengths = tsp.evaluate_multiple([optimal_mat, random_mat])\n",
    "print(optimal_lengths)"
   ]
  },
  {
   "cell_type": "markdown",
   "metadata": {},
   "source": [
    "## Create population"
   ]
  },
  {
   "cell_type": "code",
   "execution_count": null,
   "metadata": {},
   "outputs": [],
   "source": [
    "population = tsp.create_random_population(10)\n",
    "new_population = tsp.single_generation(population)\n",
    "\n",
    "print(tsp.evaluate_multiple(population))\n",
    "print(tsp.evaluate_multiple(new_population))\n"
   ]
  },
  {
   "cell_type": "code",
   "execution_count": null,
   "metadata": {},
   "outputs": [],
   "source": [
    "circle = task_generator.generate_circle(1, 8)\n",
    "tsp = utils.from_x_y(circle)\n",
    "test_parent1 = tsp.individual([0,1,2, 3,4,5,6,7])\n",
    "test_parent2 = tsp.individual([0,2,4,6,1,3,5,7])\n",
    "\n",
    "print(test_parent1)\n",
    "print(\"-----------\")\n",
    "print(test_parent2)\n",
    "\n",
    "def crossover(parent1, parent2, split_index=None):\n",
    "    if not split_index:\n",
    "        split_index=random.randint(1, parent1.shape[0])\n",
    "    \n",
    "    #first part comes from parent1\n",
    "    child = parent1[:,:split_index]\n",
    "    \n",
    "    #not which rows already have ones (individual has to have exactly one 1 in each row and col)\n",
    "    _, occupied_rows = child.max(dim=0)\n",
    "    \n",
    "    #get indexes where given row of p2 has 1\n",
    "    _, p2_max_col_indexes = parent2.max(dim=1)\n",
    "    \n",
    "    #take all cols indexes that are not already occupied in child\n",
    "    p2_cols_to_preserve = [e for row, e in enumerate(p2_max_col_indexes) if row not in occupied_rows]\n",
    "    \n",
    "    #copy each col:\n",
    "    child = [child]\n",
    "    [child.append(parent2[:,c].reshape([parent1.shape[0], 1])) for c in sorted(p2_cols_to_preserve)]\n",
    "    \n",
    "    result = torch.cat(child, 1)\n",
    "    \n",
    "    return result\n",
    "        \n",
    "\n",
    "crossover(test_parent1, test_parent2, 2)"
   ]
  }
 ],
 "metadata": {
  "kernelspec": {
   "display_name": "Python 3",
   "language": "python",
   "name": "python3"
  },
  "language_info": {
   "codemirror_mode": {
    "name": "ipython",
    "version": 3
   },
   "file_extension": ".py",
   "mimetype": "text/x-python",
   "name": "python",
   "nbconvert_exporter": "python",
   "pygments_lexer": "ipython3",
   "version": "3.6.4"
  }
 },
 "nbformat": 4,
 "nbformat_minor": 2
}
